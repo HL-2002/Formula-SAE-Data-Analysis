{
 "cells": [
  {
   "cell_type": "markdown",
   "metadata": {},
   "source": [
    "# Fuel Analysis"
   ]
  },
  {
   "cell_type": "markdown",
   "metadata": {},
   "source": [
    "#### Library init and setup"
   ]
  },
  {
   "cell_type": "code",
   "execution_count": 2,
   "metadata": {},
   "outputs": [],
   "source": [
    "import csv\n",
    "import numpy as np\n",
    "import matplotlib.pyplot as plt\n",
    "\n",
    "plt.style.use(\"ggplot\")"
   ]
  },
  {
   "cell_type": "markdown",
   "metadata": {},
   "source": [
    "#### Data standarization and storage\n",
    "\n",
    "**Teams data structure**\n",
    "\n",
    "`teams: dict` - Contains the dict of teams, with a *team* dict per each team\n",
    "\n",
    "`team: dict` - Contains the team's data in keys, which are:\n",
    "* `F_TYPE` - Fuel Type\n",
    "* `FEF` - Fuel Efficiency Factor\n",
    "* `DISPLACEMENT` - Engine Displacement (cc)\n",
    "* `ACC_SCORE` - Acceleration event score\n",
    "* `ACC_DNF` - DNF/DNA in Acceleration event participation\n",
    "* `END_SCORE` - Endurance event score\n",
    "* `END_DNF` - DNF/DNA in Endurance event participation\n",
    "\n",
    "_Note_: Certain teams participated in Fuel Efficiency Event, but not in others, so a key's existence must be validated to avoid errors."
   ]
  },
  {
   "cell_type": "code",
   "execution_count": 3,
   "metadata": {},
   "outputs": [],
   "source": [
    "# Dict to contain each team's data in their own dict\n",
    "teams = {}\n",
    "fuel_path = \"FSAE_2023_results/FSAE_2023_results - Efficiency results.csv\"\n",
    "acc_path = \"FSAE_2023_results/FSAE_2023_results - Acceleration event results.csv\"\n",
    "end_path = \"FSAE_2023_results/FSAE_2023_results - Endurance event results.csv\"\n",
    "info_path = \"FSAE_2023_results/FSAE_2023_results - Team information.csv\"\n",
    "\n",
    "# Loading data of teams in Fuel Efficiency Event into dict\n",
    "with open(fuel_path) as file:\n",
    "    reader = csv.DictReader(file)\n",
    "\n",
    "    for entry in reader:\n",
    "        # Validate entry if lesser than max time allowed in event\n",
    "        if float(entry[\"Average Adjusted Laptime\"]) < 197.342:\n",
    "            FEF_value = entry[\"Fuel Efficiency Factor\"]\n",
    "            # Cast value if it's != \"\", set it to 0 otherwise\n",
    "            FEF = float(FEF_value) if FEF_value != \"\" else 0\n",
    "            # Add Fuel type and FEF to team data\n",
    "            teams[entry[\"Team\"]] = {\"F_TYPE\": entry[\"Fuel Type\"],\"FEF\": FEF}\n",
    "\n",
    "# Loading each team's engine displacement\n",
    "with open(info_path) as file:\n",
    "    reader = csv.DictReader(file)\n",
    "\n",
    "    for entry in reader:\n",
    "        # Validate whether team participated in Fuel Efficiency Event \n",
    "        if entry[\"Team\"] in teams:\n",
    "            teams[entry[\"Team\"]][\"DISCPLACEMENT\"] = entry[\"Engine Displacement (cc)\"]\n",
    "\n",
    "# Loading each team's acceleration score and DNF in said event\n",
    "with open(acc_path) as file:\n",
    "    reader = csv.DictReader(file)\n",
    "\n",
    "    for entry in reader:\n",
    "        # Validate wether team participated in Fuel Efficiency Event\n",
    "        if entry[\"Team\"] in teams:\n",
    "            # Checking DNA/DNA in run\n",
    "            values = [entry[\"Run #1 Time\"], \n",
    "                      entry[\"Run #2 Time\"], \n",
    "                      entry[\"Run #3 Time\"],\n",
    "                      entry[\"Run #4 Time\"]]\n",
    "            DNF = True if \"DNA\" in values or \"DNF\" in values else False\n",
    "\n",
    "            # Add acceleration score and DNA/DNF data\n",
    "            teams[entry[\"Team\"]][\"ACC_SCORE\"] = float(entry[\"Score\"])\n",
    "            teams[entry[\"Team\"]][\"ACC_DNF\"] = DNF\n",
    "\n",
    "# Loading each team's endurance score and DNF in said event\n",
    "with open(end_path) as file:\n",
    "    reader = csv.DictReader(file)\n",
    "\n",
    "    for entry in reader:\n",
    "        # Validate wether team participated in Fuel Efficiency Event\n",
    "        if entry[\"Team\"] in teams:\n",
    "            DNF = True if entry[\"Adjusted Time\"] == \"DNF\" else False\n",
    "\n",
    "            # Add endurance score and DNA/DNF data\n",
    "            teams[entry[\"Team\"]][\"END_SCORE\"] = float(entry[\"Endurance Score\"])\n",
    "            teams[entry[\"Team\"]][\"END_DNF\"] = DNF\n"
   ]
  },
  {
   "cell_type": "markdown",
   "metadata": {},
   "source": [
    "### Fuel used against average fuel efficiency factor (FEF)"
   ]
  },
  {
   "cell_type": "markdown",
   "metadata": {},
   "source": [
    "FEF is calculated with the following formula:\n",
    "\n",
    "FEF = (Tmin/Tyours) * (CO2min/CO2yours) * (Lapyours^2/Laptotal^2)\n",
    "\n",
    "Being Tmin and C02min the least metric achieved in the competition, and yours being the one the team got."
   ]
  },
  {
   "cell_type": "code",
   "execution_count": 46,
   "metadata": {},
   "outputs": [
    {
     "name": "stdout",
     "output_type": "stream",
     "text": [
      "Average FEF for each fuel type:\n",
      "- 93: 0.3805, 22 teams.\n",
      "- 100: 0.475, 11 teams.\n",
      "- E85: 0.48, 13 teams.\n"
     ]
    },
    {
     "data": {
      "text/plain": [
       "(0.0, 0.6)"
      ]
     },
     "execution_count": 46,
     "metadata": {},
     "output_type": "execute_result"
    },
    {
     "data": {
      "image/png": "[encoded data removed]",
      "text/plain": [
       "<Figure size 640x480 with 1 Axes>"
      ]
     },
     "metadata": {},
     "output_type": "display_data"
    }
   ],
   "source": [
    "# Calculate average FEF for each fuel type\n",
    "fuel_types = {\"93\": [], \"100\": [], \"E85\": []}\n",
    "\n",
    "for team in teams:\n",
    "    fuel_types[teams[team][\"F_TYPE\"]].append(teams[team][\"FEF\"])\n",
    "\n",
    "print(\"Average FEF for each fuel type:\")\n",
    "\n",
    "for fuel in fuel_types:\n",
    "    avrg = np.mean(fuel_types[fuel])\n",
    "    print(f\"- {fuel}: {round(avrg,4)}, {len(fuel_types[fuel])} teams.\")\n",
    "    fuel_types[fuel] = avrg\n",
    "\n",
    "# Plot average FEF for each fuel type\n",
    "fig, ax = plt.subplots()\n",
    "ax.bar(fuel_types.keys(), fuel_types.values())\n",
    "\n",
    "# Style the plot\n",
    "ax.set_title(\"Average Fuel Efficiency Factor for each Fuel Type\")\n",
    "ax.set_xlabel(\"Fuel Type\")\n",
    "ax.set_ylabel(\"Average Fuel Efficiency Factor\")\n",
    "ax.set_ylim(0, 0.6)\n",
    "\n"
   ]
  },
  {
   "cell_type": "markdown",
   "metadata": {},
   "source": [
    "### * Fuel categorization: Average FEF per engine displacement"
   ]
  },
  {
   "cell_type": "markdown",
   "metadata": {},
   "source": [
    " **NOTE:** This is *really* biased, needs more data from previous years to actually categorize properly"
   ]
  },
  {
   "cell_type": "code",
   "execution_count": 7,
   "metadata": {},
   "outputs": [
    {
     "name": "stdout",
     "output_type": "stream",
     "text": [
      "\n",
      "Average FEF for each fuel type and engine displacement:\n",
      "\n",
      "E85:\n",
      "- 450cc: 0.6017, 3 teams.\n",
      "- 600cc: 0.3827, 6 teams.\n",
      "\n",
      "100:\n",
      "- 600cc: 0.464, 5 teams.\n",
      "- 636cc: 0.344, 3 teams.\n",
      "\n",
      "93:\n",
      "- 600cc: 0.3109, 16 teams.\n"
     ]
    },
    {
     "data": {
      "text/plain": [
       "[None, None, None, None, None, None]"
      ]
     },
     "execution_count": 7,
     "metadata": {},
     "output_type": "execute_result"
    },
    {
     "data": {
      "image/png": "[encoded data removed]",
      "text/plain": [
       "<Figure size 1000x300 with 3 Axes>"
      ]
     },
     "metadata": {},
     "output_type": "display_data"
    }
   ],
   "source": [
    "# Dict of fuel types with list of FEF per engine displacement\n",
    "fuels = {}\n",
    "\n",
    "# Populate the dict\n",
    "for team in teams:\n",
    "    fuel = teams[team][\"F_TYPE\"]\n",
    "    displacement = teams[team][\"DISCPLACEMENT\"]\n",
    "    fef = teams[team][\"FEF\"]\n",
    "    # Initializing the dict and list if not present\n",
    "    if fuel not in fuels:\n",
    "        fuels[fuel] = dict()\n",
    "        \n",
    "    if displacement not in fuels[fuel]:\n",
    "        fuels[fuel][displacement] = []\n",
    "        fuels[fuel][displacement].append(fef)\n",
    "    else:\n",
    "        fuels[fuel][displacement].append(fef)\n",
    "\n",
    "# Calculate average (more than 2 occurences) FEF for each fuel type and engine displacement\n",
    "print(\"\\nAverage FEF for each fuel type and engine displacement:\")\n",
    "\n",
    "for fuel in fuels:\n",
    "    print(f\"\\n{fuel}:\")\n",
    "    for displacement in fuels[fuel]:\n",
    "        # Compute averages\n",
    "        if len(fuels[fuel][displacement]) > 2:\n",
    "            avrg = np.mean(fuels[fuel][displacement])\n",
    "            print(f\"- {displacement}cc: {round(avrg,4)}, {len(fuels[fuel][displacement])} teams.\")\n",
    "            fuels[fuel][displacement] = avrg\n",
    "\n",
    "# Sort the dict by engine displacement\n",
    "for fuel in fuels:\n",
    "    fuels[fuel] = dict(sorted(fuels[fuel].items()))\n",
    "\n",
    "# Graph the FEF\n",
    "fig, (ax1, ax2, ax3) = plt.subplots(1,3, figsize=(10,3))\n",
    "\n",
    "fig.subplots_adjust(top=0.8)\n",
    "fig.suptitle(\"FEF per engine displacement\")\n",
    "\n",
    "# E85\n",
    "E85 = fuels[\"E85\"]\n",
    "E85_X = [x for x in E85.keys() if isinstance(E85[x], float)]\n",
    "E85_Y = [E85[x] for x in E85_X]\n",
    "\n",
    "ax1.set_title(\"E85\")\n",
    "ax1.set_ylabel(\"FEF\")\n",
    "\n",
    "ax1.bar(E85_X, E85_Y)\n",
    "\n",
    "#100\n",
    "f100 = fuels[\"100\"]\n",
    "f100_X = [x for x in f100.keys() if isinstance(f100[x], float)]\n",
    "f100_Y = [f100[x] for x in f100_X]\n",
    "\n",
    "ax2.set_title(\"100\")\n",
    "ax2.set_xlabel(\"Displacement (cc)\")\n",
    "\n",
    "ax2.bar(f100_X, f100_Y)\n",
    "\n",
    "#93\n",
    "f93 = fuels[\"93\"]\n",
    "f93_X = [x for x in f93.keys() if isinstance(f93[x], float)]\n",
    "f93_Y = [f93[x] for x in f93_X]\n",
    "\n",
    "ax3.set_title(\"93\")\n",
    "\n",
    "ax3.bar(f93_X, f93_Y)\n",
    "\n",
    "# Style the plots with same y axis\n",
    "# Set up y axis\n",
    "ax1.set_ylim(0, 1)\n",
    "ax2.set_ylim(0, 1)\n",
    "ax3.set_ylim(0, 1)\n",
    "\n",
    "# Set y axis ticks to be visible only on the first plot\n",
    "plt.setp(ax2.get_yticklabels(), visible=False)\n",
    "plt.setp(ax3.get_yticklabels(), visible=False)\n"
   ]
  },
  {
   "cell_type": "markdown",
   "metadata": {},
   "source": [
    "### FEF - Performance scores and Reliability per event (Acceleration, Endurance)"
   ]
  },
  {
   "cell_type": "code",
   "execution_count": null,
   "metadata": {},
   "outputs": [],
   "source": []
  }
 ],
 "metadata": {
  "kernelspec": {
   "display_name": "Python 3",
   "language": "python",
   "name": "python3"
  },
  "language_info": {
   "codemirror_mode": {
    "name": "ipython",
    "version": 3
   },
   "file_extension": ".py",
   "mimetype": "text/x-python",
   "name": "python",
   "nbconvert_exporter": "python",
   "pygments_lexer": "ipython3",
   "version": "3.11.4"
  }
 },
 "nbformat": 4,
 "nbformat_minor": 2
}
