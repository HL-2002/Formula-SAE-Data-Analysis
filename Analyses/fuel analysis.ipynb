{
 "cells": [
  {
   "cell_type": "markdown",
   "metadata": {},
   "source": [
    "# Fuel Analysis"
   ]
  },
  {
   "cell_type": "markdown",
   "metadata": {},
   "source": [
    "#### Library init and setup"
   ]
  },
  {
   "cell_type": "code",
   "execution_count": 26,
   "metadata": {},
   "outputs": [],
   "source": [
    "import csv\n",
    "import numpy as np\n",
    "import matplotlib.pyplot as plt\n",
    "\n",
    "plt.style.use(\"ggplot\")"
   ]
  },
  {
   "cell_type": "markdown",
   "metadata": {},
   "source": [
    "#### Data standarization and storage\n",
    "\n",
    "**Teams data structure**\n",
    "\n",
    "`teams: dict` - Contains the dict of teams, with a *team* dict per each team\n",
    "\n",
    "`team: dict` - Contains the team's data in keys, which are:\n",
    "* `F_TYPE` - Fuel Type\n",
    "* `FEF` - Fuel Efficiency Factor\n",
    "* `DISPLACEMENT` - Engine Displacement (cc)\n",
    "* `ACC_SCORE` - Acceleration event score\n",
    "* `ACC_DNF` - DNF/DNA in Acceleration event participation\n",
    "* `END_SCORE` - Endurance event score\n",
    "* `END_DNF` - DNF/DNA in Endurance event participation\n",
    "\n",
    "_Note_: Certain teams participated in Fuel Efficiency Event, but not in others, so a key's existence must be validated to avoid errors."
   ]
  },
  {
   "cell_type": "code",
   "execution_count": 24,
   "metadata": {},
   "outputs": [
    {
     "name": "stdout",
     "output_type": "stream",
     "text": [
      "South Dakota State Univ -> {'F_TYPE': 'E85', 'FEF': 0.697, 'DISCPLACEMENT': '670', 'END_SCORE': 30.8, 'END_DNF': False}\n",
      "Univ of North Carolina - Charlotte -> {'F_TYPE': '100', 'FEF': 0.688, 'DISCPLACEMENT': '450', 'ACC_SCORE': 63.52, 'ACC_DNF': False, 'END_SCORE': 254.8, 'END_DNF': False}\n",
      "Univ of Calif - San Diego -> {'F_TYPE': '93', 'FEF': 0.66, 'DISCPLACEMENT': '700', 'ACC_SCORE': 79.63, 'ACC_DNF': False, 'END_SCORE': 253.5, 'END_DNF': False}\n",
      "Univ of Akron -> {'F_TYPE': 'E85', 'FEF': 0.647, 'DISCPLACEMENT': '450', 'ACC_SCORE': 46.74, 'ACC_DNF': False, 'END_SCORE': 163.0, 'END_DNF': False}\n",
      "Univ of Calif - Berkeley -> {'F_TYPE': 'E85', 'FEF': 0.626, 'DISCPLACEMENT': '450', 'ACC_SCORE': 56.14, 'ACC_DNF': False, 'END_SCORE': 18.0, 'END_DNF': True}\n",
      "California Baptist University -> {'F_TYPE': '100', 'FEF': 0.624, 'DISCPLACEMENT': '690', 'ACC_SCORE': 67.6, 'ACC_DNF': False, 'END_SCORE': 61.6, 'END_DNF': False}\n",
      "Univ of Colorado - Boulder -> {'F_TYPE': '93', 'FEF': 0.624, 'DISCPLACEMENT': '689', 'ACC_SCORE': 80.58, 'ACC_DNF': False, 'END_SCORE': 127.3, 'END_DNF': False}\n",
      "Univ of Cincinnati -> {'F_TYPE': '93', 'FEF': 0.617, 'DISCPLACEMENT': '690', 'ACC_SCORE': 77.99, 'ACC_DNF': False, 'END_SCORE': 179.3, 'END_DNF': False}\n",
      "California State Univ - Fullerton -> {'F_TYPE': '93', 'FEF': 0.607, 'DISCPLACEMENT': '690', 'ACC_SCORE': 62.61, 'ACC_DNF': True, 'END_SCORE': 86.7, 'END_DNF': False}\n",
      "Western Michigan Univ -> {'F_TYPE': 'E85', 'FEF': 0.605, 'DISCPLACEMENT': '600', 'ACC_SCORE': 67.51, 'ACC_DNF': False, 'END_SCORE': 174.9, 'END_DNF': False}\n",
      "Univ of Virginia -> {'F_TYPE': '93', 'FEF': 0.571, 'DISCPLACEMENT': '600', 'ACC_SCORE': 65.42, 'ACC_DNF': False, 'END_SCORE': 73.4, 'END_DNF': False}\n",
      "California Polytechnic State Univ-SLO -> {'F_TYPE': '100', 'FEF': 0.561, 'DISCPLACEMENT': '450', 'ACC_SCORE': 61.95, 'ACC_DNF': False, 'END_SCORE': 219.2, 'END_DNF': False}\n",
      "Georgia Institute of Technology -> {'F_TYPE': '100', 'FEF': 0.555, 'DISCPLACEMENT': '600', 'ACC_SCORE': 80.94, 'ACC_DNF': True, 'END_SCORE': 216.5, 'END_DNF': False}\n",
      "California State Univ - Northridge -> {'F_TYPE': '100', 'FEF': 0.551, 'DISCPLACEMENT': '600', 'ACC_SCORE': 76.2, 'ACC_DNF': False, 'END_SCORE': 197.4, 'END_DNF': False}\n",
      "Univ of Calif - Los Angeles -> {'F_TYPE': 'E85', 'FEF': 0.532, 'DISCPLACEMENT': '450', 'ACC_SCORE': 69.73, 'ACC_DNF': False, 'END_SCORE': 242.9, 'END_DNF': False}\n",
      "Texas A&M Univ - College Station -> {'F_TYPE': 'E85', 'FEF': 0.528, 'DISCPLACEMENT': '500', 'ACC_SCORE': 76.71, 'ACC_DNF': False, 'END_SCORE': 12.0, 'END_DNF': True}\n",
      "Univ of Texas - Arlington -> {'F_TYPE': 'E85', 'FEF': 0.516, 'DISCPLACEMENT': '320', 'ACC_SCORE': 78.0, 'ACC_DNF': False, 'END_SCORE': 275.0, 'END_DNF': False}\n",
      "Univ of Puerto Rico-Mayaquez -> {'F_TYPE': '93', 'FEF': 0.514, 'DISCPLACEMENT': '600', 'END_SCORE': 39.4, 'END_DNF': False}\n",
      "Drexel Univ -> {'F_TYPE': '93', 'FEF': 0.514, 'DISCPLACEMENT': '478', 'ACC_SCORE': 58.43, 'ACC_DNF': False, 'END_SCORE': 10.0, 'END_DNF': True}\n",
      "South Dakota School of Mines & Tech -> {'F_TYPE': 'E85', 'FEF': 0.509, 'DISCPLACEMENT': '600', 'ACC_SCORE': 55.54, 'ACC_DNF': False, 'END_SCORE': 97.4, 'END_DNF': False}\n",
      "Univ of Illinois - Urbana Champaign -> {'F_TYPE': '93', 'FEF': 0.506, 'DISCPLACEMENT': '600', 'ACC_SCORE': 93.41, 'ACC_DNF': True, 'END_SCORE': 221.7, 'END_DNF': False}\n",
      "Univ of Texas - Austin -> {'F_TYPE': '93', 'FEF': 0.463, 'DISCPLACEMENT': '600', 'ACC_SCORE': 28.99, 'ACC_DNF': False, 'END_SCORE': 51.1, 'END_DNF': False}\n",
      "The Ohio State University -> {'F_TYPE': 'E85', 'FEF': 0.46, 'DISCPLACEMENT': '600', 'ACC_SCORE': 81.93, 'ACC_DNF': False, 'END_SCORE': 244.5, 'END_DNF': False}\n",
      "Temple Univ -> {'F_TYPE': '93', 'FEF': 0.447, 'DISCPLACEMENT': '600', 'ACC_SCORE': 85.27, 'ACC_DNF': False, 'END_SCORE': 112.4, 'END_DNF': False}\n",
      "Univ of British Columbia - Okanagan -> {'F_TYPE': '93', 'FEF': 0.432, 'DISCPLACEMENT': '600', 'ACC_SCORE': 63.98, 'ACC_DNF': False, 'END_SCORE': 48.7, 'END_DNF': False}\n",
      "Univ of Victoria -> {'F_TYPE': '93', 'FEF': 0.422, 'DISCPLACEMENT': '600', 'ACC_SCORE': 67.8, 'ACC_DNF': True, 'END_SCORE': 157.5, 'END_DNF': False}\n",
      "Clarkson University -> {'F_TYPE': '100', 'FEF': 0.417, 'DISCPLACEMENT': '600', 'ACC_SCORE': 61.09, 'ACC_DNF': True, 'END_SCORE': 143.0, 'END_DNF': False}\n",
      "Univ of Connecticut -> {'F_TYPE': '93', 'FEF': 0.411, 'DISCPLACEMENT': '600', 'ACC_SCORE': 100.0, 'ACC_DNF': False, 'END_SCORE': 201.7, 'END_DNF': False}\n",
      "Wroclaw University of Technology -> {'F_TYPE': '100', 'FEF': 0.405, 'DISCPLACEMENT': '600', 'ACC_SCORE': 94.34, 'ACC_DNF': False, 'END_SCORE': 171.8, 'END_DNF': False}\n",
      "Univ of Southern California -> {'F_TYPE': '93', 'FEF': 0.405, 'DISCPLACEMENT': '600', 'ACC_SCORE': 30.04, 'ACC_DNF': False, 'END_SCORE': 45.4, 'END_DNF': False}\n",
      "Kennesaw State University -> {'F_TYPE': '93', 'FEF': 0.403, 'DISCPLACEMENT': '600', 'ACC_SCORE': 91.05, 'ACC_DNF': False, 'END_SCORE': 10.0, 'END_DNF': True}\n",
      "Univ of Illinois - Chicago -> {'F_TYPE': '93', 'FEF': 0.4, 'DISCPLACEMENT': '600', 'ACC_SCORE': 74.77, 'ACC_DNF': True, 'END_SCORE': 126.8, 'END_DNF': False}\n",
      "Kansas State Univ -> {'F_TYPE': 'E85', 'FEF': 0.398, 'DISCPLACEMENT': '675', 'ACC_SCORE': 75.02, 'ACC_DNF': False, 'END_SCORE': 227.7, 'END_DNF': False}\n",
      "Saginaw Valley State Univ -> {'F_TYPE': '100', 'FEF': 0.392, 'DISCPLACEMENT': '600', 'ACC_SCORE': 78.56, 'ACC_DNF': False, 'END_SCORE': 128.3, 'END_DNF': False}\n",
      "Clemson Univ -> {'F_TYPE': '100', 'FEF': 0.386, 'DISCPLACEMENT': '636', 'ACC_SCORE': 66.18, 'ACC_DNF': True, 'END_SCORE': 14.0, 'END_DNF': True}\n",
      "Oklahoma State Univ -> {'F_TYPE': '93', 'FEF': 0.375, 'DISCPLACEMENT': '636', 'ACC_SCORE': 68.26, 'ACC_DNF': False, 'END_SCORE': 158.2, 'END_DNF': False}\n",
      "Missouri University of Science and Tech -> {'F_TYPE': '100', 'FEF': 0.372, 'DISCPLACEMENT': '636', 'ACC_SCORE': 84.46, 'ACC_DNF': False, 'END_SCORE': 168.1, 'END_DNF': False}\n",
      "Univ of Maryland - College Park -> {'F_TYPE': 'E85', 'FEF': 0.365, 'DISCPLACEMENT': '600', 'ACC_SCORE': 23.82, 'ACC_DNF': True, 'END_SCORE': 10.0, 'END_DNF': True}\n",
      "Lawrence Technological Univ -> {'F_TYPE': 'E85', 'FEF': 0.357, 'DISCPLACEMENT': '600', 'ACC_SCORE': 70.89, 'ACC_DNF': False, 'END_SCORE': 37.7, 'END_DNF': False}\n",
      "Sacramento State Univ -> {'F_TYPE': '100', 'FEF': 0.274, 'DISCPLACEMENT': '636', 'END_SCORE': 42.8, 'END_DNF': False}\n",
      "Michigan State University -> {'F_TYPE': '93', 'FEF': 0, 'DISCPLACEMENT': '600', 'ACC_SCORE': 64.55, 'ACC_DNF': True, 'END_SCORE': 184.7, 'END_DNF': False}\n",
      "Purdue Univ - W Lafayette -> {'F_TYPE': '93', 'FEF': 0, 'DISCPLACEMENT': '600', 'ACC_SCORE': 75.78, 'ACC_DNF': False, 'END_SCORE': 257.4, 'END_DNF': False}\n",
      "Univ of South Florida -> {'F_TYPE': 'E85', 'FEF': 0, 'DISCPLACEMENT': '600', 'ACC_SCORE': 88.06, 'ACC_DNF': False, 'END_SCORE': 70.8, 'END_DNF': False}\n",
      "Univ of Missouri -> {'F_TYPE': '93', 'FEF': 0, 'DISCPLACEMENT': '600', 'ACC_SCORE': 53.64, 'ACC_DNF': False, 'END_SCORE': 221.6, 'END_DNF': False}\n",
      "Oregon Inst of Tech -> {'F_TYPE': '93', 'FEF': 0, 'DISCPLACEMENT': '600', 'ACC_SCORE': 4.5, 'ACC_DNF': False, 'END_SCORE': 61.2, 'END_DNF': False}\n",
      "Univ of Ottawa -> {'F_TYPE': '93', 'FEF': 0, 'DISCPLACEMENT': '600', 'ACC_SCORE': 59.32, 'ACC_DNF': False, 'END_SCORE': 133.4, 'END_DNF': False}\n"
     ]
    }
   ],
   "source": [
    "# Dict to contain each team's data in their own dict\n",
    "teams = {}\n",
    "fuel_path = \"FSAE_2023_results/FSAE_2023_results - Efficiency results.csv\"\n",
    "acc_path = \"FSAE_2023_results/FSAE_2023_results - Acceleration event results.csv\"\n",
    "end_path = \"FSAE_2023_results/FSAE_2023_results - Endurance event results.csv\"\n",
    "info_path = \"FSAE_2023_results/FSAE_2023_results - Team information.csv\"\n",
    "\n",
    "# Loading data of teams in Fuel Efficiency Event into dict\n",
    "with open(fuel_path) as file:\n",
    "    reader = csv.DictReader(file)\n",
    "\n",
    "    for entry in reader:\n",
    "        # Validate entry if lesser than max time allowed in event\n",
    "        if float(entry[\"Average Adjusted Laptime\"]) < 197.342:\n",
    "            FEF_value = entry[\"Fuel Efficiency Factor\"]\n",
    "            # Cast value if it's != \"\", set it to 0 otherwise\n",
    "            FEF = float(FEF_value) if FEF_value != \"\" else 0\n",
    "            # Add Fuel type and FEF to team data\n",
    "            teams[entry[\"Team\"]] = {\"F_TYPE\": entry[\"Fuel Type\"],\"FEF\": FEF}\n",
    "\n",
    "# Loading each team's engine displacement\n",
    "with open(info_path) as file:\n",
    "    reader = csv.DictReader(file)\n",
    "\n",
    "    for entry in reader:\n",
    "        # Validate whether team participated in Fuel Efficiency Event \n",
    "        if entry[\"Team\"] in teams:\n",
    "            teams[entry[\"Team\"]][\"DISCPLACEMENT\"] = entry[\"Engine Displacement (cc)\"]\n",
    "\n",
    "# Loading each team's acceleration score and DNF in said event\n",
    "with open(acc_path) as file:\n",
    "    reader = csv.DictReader(file)\n",
    "\n",
    "    for entry in reader:\n",
    "        # Validate wether team participated in Fuel Efficiency Event\n",
    "        if entry[\"Team\"] in teams:\n",
    "            # Checking DNA/DNA in run\n",
    "            values = [entry[\"Run #1 Time\"], \n",
    "                      entry[\"Run #2 Time\"], \n",
    "                      entry[\"Run #3 Time\"],\n",
    "                      entry[\"Run #4 Time\"]]\n",
    "            DNF = True if \"DNA\" in values or \"DNF\" in values else False\n",
    "\n",
    "            # Add acceleration score and DNA/DNF data\n",
    "            teams[entry[\"Team\"]][\"ACC_SCORE\"] = float(entry[\"Score\"])\n",
    "            teams[entry[\"Team\"]][\"ACC_DNF\"] = DNF\n",
    "\n",
    "# Loading each team's endurance score and DNF in said event\n",
    "with open(end_path) as file:\n",
    "    reader = csv.DictReader(file)\n",
    "\n",
    "    for entry in reader:\n",
    "        # Validate wether team participated in Fuel Efficiency Event\n",
    "        if entry[\"Team\"] in teams:\n",
    "            DNF = True if entry[\"Adjusted Time\"] == \"DNF\" else False\n",
    "\n",
    "            # Add endurance score and DNA/DNF data\n",
    "            teams[entry[\"Team\"]][\"END_SCORE\"] = float(entry[\"Endurance Score\"])\n",
    "            teams[entry[\"Team\"]][\"END_DNF\"] = DNF\n"
   ]
  },
  {
   "cell_type": "markdown",
   "metadata": {},
   "source": [
    "### Fuel used against average fuel efficiency factor (FEF)"
   ]
  },
  {
   "cell_type": "markdown",
   "metadata": {},
   "source": [
    "FEF is calculated with the following formula:\n",
    "\n",
    "FEF = (Tmin/Tyours) * (CO2min/CO2yours) * (Lapyours^2/Laptotal^2)\n",
    "\n",
    "Being Tmin and C02min the least metric achieved in the competition, and yours being the one the team got."
   ]
  },
  {
   "cell_type": "code",
   "execution_count": 44,
   "metadata": {},
   "outputs": [
    {
     "name": "stdout",
     "output_type": "stream",
     "text": [
      "Average FEF for each fuel type:\n",
      "- 93: 0.3805, 22 teams.\n",
      "- 100: 0.475, 11 teams.\n",
      "- E85: 0.48, 13 teams.\n"
     ]
    },
    {
     "data": {
      "text/plain": [
       "Text(0, 0.5, 'Average Fuel Efficiency Factor')"
      ]
     },
     "execution_count": 44,
     "metadata": {},
     "output_type": "execute_result"
    },
    {
     "data": {
      "image/png": "[encoded data removed]",
      "text/plain": [
       "<Figure size 640x480 with 1 Axes>"
      ]
     },
     "metadata": {},
     "output_type": "display_data"
    }
   ],
   "source": [
    "# Calculate average FEF for each fuel type\n",
    "fuel_types = {\"93\": [], \"100\": [], \"E85\": []}\n",
    "\n",
    "for team in teams:\n",
    "    fuel_types[teams[team][\"F_TYPE\"]].append(teams[team][\"FEF\"])\n",
    "\n",
    "print(\"Average FEF for each fuel type:\")\n",
    "\n",
    "for fuel in fuel_types:\n",
    "    avrg = np.mean(fuel_types[fuel])\n",
    "    print(f\"- {fuel}: {round(avrg,4)}, {len(fuel_types[fuel])} teams.\")\n",
    "    fuel_types[fuel] = avrg\n",
    "\n",
    "# Plot average FEF for each fuel type\n",
    "fig, ax = plt.subplots()\n",
    "ax.bar(fuel_types.keys(), fuel_types.values())\n",
    "\n",
    "# Style the plot\n",
    "ax.set_title(\"Average Fuel Efficiency Factor for each Fuel Type\")\n",
    "ax.set_xlabel(\"Fuel Type\")\n",
    "ax.set_ylabel(\"Average Fuel Efficiency Factor\")\n",
    "\n"
   ]
  },
  {
   "cell_type": "markdown",
   "metadata": {},
   "source": [
    "### Fuel categorization: Average FEF per engine displacement"
   ]
  },
  {
   "cell_type": "code",
   "execution_count": null,
   "metadata": {},
   "outputs": [],
   "source": []
  },
  {
   "cell_type": "markdown",
   "metadata": {},
   "source": [
    "### FEF - Performance scores and Reliability per event (Acceleration, Endurance)"
   ]
  },
  {
   "cell_type": "code",
   "execution_count": null,
   "metadata": {},
   "outputs": [],
   "source": []
  }
 ],
 "metadata": {
  "kernelspec": {
   "display_name": "Python 3",
   "language": "python",
   "name": "python3"
  },
  "language_info": {
   "codemirror_mode": {
    "name": "ipython",
    "version": 3
   },
   "file_extension": ".py",
   "mimetype": "text/x-python",
   "name": "python",
   "nbconvert_exporter": "python",
   "pygments_lexer": "ipython3",
   "version": "3.11.4"
  }
 },
 "nbformat": 4,
 "nbformat_minor": 2
}
